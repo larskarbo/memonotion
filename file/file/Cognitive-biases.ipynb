{
 "cells": [
  {
   "cell_type": "code",
   "execution_count": 2,
   "metadata": {
    "colab": {
     "base_uri": "https://localhost:8080/",
     "height": 102
    },
    "colab_type": "code",
    "id": "his3Hj4PhnLl",
    "outputId": "1d5eaa07-2b1f-426c-b7d6-c73eeaabad91"
   },
   "outputs": [],
   "source": [
    "!pip install --upgrade --quiet notion"
   ]
  },
  {
   "cell_type": "code",
   "execution_count": 3,
   "metadata": {
    "colab": {},
    "colab_type": "code",
    "id": "yvpkG_P-bTxe"
   },
   "outputs": [],
   "source": [
    "\n",
    "\n",
    "from notion.client import NotionClient\n",
    "from notion.block import TextBlock, ImageBlock, BulletedListBlock\n",
    "\n",
    "from datetime import datetime, timedelta, date\n",
    "import requests"
   ]
  },
  {
   "cell_type": "code",
   "execution_count": 4,
   "metadata": {
    "colab": {},
    "colab_type": "code",
    "id": "uQMol9MFlOa0"
   },
   "outputs": [],
   "source": [
    "from notion.collection import NotionDate\n",
    "from datetime import date"
   ]
  },
  {
   "cell_type": "code",
   "execution_count": 5,
   "metadata": {
    "colab": {},
    "colab_type": "code",
    "id": "Zr1o7JjoiK2J"
   },
   "outputs": [],
   "source": [
    "client = NotionClient(token_v2=\"44b8f17ddd1ebb037d6f7c92e55bb547b10a02465b68bda1f21757399dcb44dd05558ff355309d6ce173cb0b2a22c68122ac48abc1a4a69659d5717f78396a6f30d9b1c89806343f09685428b2c5\")\n",
    "\n"
   ]
  },
  {
   "cell_type": "code",
   "execution_count": 8,
   "metadata": {
    "colab": {
     "base_uri": "https://localhost:8080/",
     "height": 1000
    },
    "colab_type": "code",
    "id": "0sv10X1uixrX",
    "outputId": "5434dff0-6685-4ded-d7df-a1da9fd50487"
   },
   "outputs": [],
   "source": [
    "cv = client.get_collection_view(\"https://www.notion.so/larskarbo/439862bf1bfd4e85bdbe7228a2b3ff7e?v=cda2c513888e41ca8294404e5a02f852\")\n",
    "rows = cv.build_query().execute()"
   ]
  },
  {
   "cell_type": "code",
   "execution_count": 9,
   "metadata": {},
   "outputs": [
    {
     "data": {
      "text/plain": [
       "20"
      ]
     },
     "execution_count": 9,
     "metadata": {},
     "output_type": "execute_result"
    }
   ],
   "source": [
    "len(rows)"
   ]
  },
  {
   "cell_type": "code",
   "execution_count": 18,
   "metadata": {},
   "outputs": [
    {
     "name": "stdout",
     "output_type": "stream",
     "text": [
      "\n",
      "\n",
      "5\n",
      "foot\n",
      "short (vs tall)\n",
      "woman\n",
      "to wear\n",
      "ear\n",
      "ring\n",
      "tight\n",
      "skirt\n",
      "deaf\n",
      "parent (= mother/father)\n",
      "loud\n",
      "telephone\n",
      "baby\n",
      "to cry\n",
      "tear (drop)\n",
      "dark\n",
      "theater\n",
      "king\n",
      "to love\n",
      "1001\n",
      "night\n",
      "noun\n",
      "Winter\n",
      "2nd\n",
      "August\n",
      "to walk\n",
      "cold\n",
      "north\n",
      "town\n",
      "rain\n",
      "wet\n",
      "gray\n",
      "to buy\n",
      "gift\n",
      "bicycle\n",
      "it\n",
      "money\n",
      "clothing\n",
      "store/shop\n",
      "sign\n",
      "to sell\n",
      "long\n",
      "loose\n",
      "pants\n",
      "pocket\n",
      "price\n",
      "80\n",
      "70\n",
      "million\n",
      "year\n",
      "old (vs new)\n",
      "hard\n",
      "stone\n",
      "mountain\n",
      "to fall\n",
      "dead\n",
      "adjective\n",
      "truck\n",
      "tire\n",
      "ground\n",
      "to carry\n",
      "weight\n",
      "0\n",
      "curved\n",
      "circle\n",
      "number\n",
      "December\n",
      "warm\n",
      "beach\n",
      "sand\n",
      "island\n",
      "heaven\n",
      "pig\n",
      "4\n",
      "leg\n",
      "dirty\n",
      "to dig\n",
      "soil/earth\n",
      "to eat\n",
      "corn\n",
      "plant\n",
      "family\n",
      "to sit\n",
      "down\n",
      "glass\n",
      "bottom\n",
      "boat\n",
      "camera\n",
      "photograph\n",
      "sea\n",
      "artist\n",
      "copper\n",
      "tool\n",
      "beautiful\n",
      "clay\n",
      "lamp\n",
      "30\n",
      "centimeter\n",
      "tall\n",
      "cheap\n",
      "hotel\n",
      "7\n",
      "day\n",
      "plastic\n",
      "bed\n",
      "court\n",
      "lawyer\n",
      "quiet\n",
      "voice\n",
      "billion\n",
      "dollar\n",
      "contract\n",
      "to sign\n",
      "evening\n",
      "11\n",
      "15\n",
      "home\n",
      "lock\n",
      "to sleep\n",
      "heart\n",
      "disease\n",
      "doctor\n",
      "to push\n",
      "needle\n",
      "medicine\n",
      "alive\n",
      "cat\n",
      "to follow\n",
      "3\n",
      "blind\n",
      "mouse\n",
      "paper\n",
      "letter\n",
      "bank\n",
      "manager\n",
      "job\n",
      "yes\n",
      "happy\n",
      "man\n",
      "you (plural)\n",
      "8\n",
      "chair\n",
      "restaurant\n",
      "narrow\n",
      "table\n",
      "dinner\n",
      "wine\n",
      "chicken\n",
      "soup\n",
      "spoon\n",
      "31\n",
      "date\n",
      "May\n",
      "snow\n",
      "shoes\n",
      "to go\n",
      "forest\n",
      "wind\n",
      "to shake\n",
      "thin\n",
      "leaf\n",
      "wife\n",
      "small/little\n",
      "diamond\n",
      "wedding\n",
      "dress\n",
      "Sunday\n",
      "to throw\n",
      "rice\n",
      "June\n",
      "Thursday\n",
      "2\n",
      "team\n",
      "22\n",
      "player\n",
      "foot\n",
      "ball\n",
      "fan\n",
      "to beat\n",
      "horse\n",
      "strong\n",
      "animal\n",
      "to pull\n",
      "heavy\n",
      "box\n",
      "clock\n",
      "9\n",
      "40\n",
      "morning\n",
      "sun\n",
      "light\n",
      "coffee\n",
      "nose\n",
      "to smell\n",
      "front\n",
      "bathroom\n",
      "window\n",
      "to see\n",
      "eye\n",
      "garden\n",
      "to catch\n",
      "6\n",
      "kilogram\n",
      "ugly\n",
      "flat\n",
      "fish\n",
      "you (singular)\n",
      "to learn\n",
      "10\n",
      "finger\n",
      "computer\n",
      "program (computer)\n",
      "technology\n",
      "I\n",
      "to cook\n",
      "egg\n",
      "breakfast\n",
      "kitchen\n",
      "good\n",
      "cup\n",
      "orange\n",
      "juice\n",
      "train station\n",
      "drug\n",
      "to pay\n",
      "prison\n",
      "adult\n",
      "12\n",
      "month\n",
      "102\n",
      "temperature\n",
      "hot\n",
      "dry\n",
      "Summer\n",
      "sweat\n",
      "February\n",
      "pool\n",
      "nature\n",
      "to sing\n",
      "yellow\n",
      "bird\n",
      "wing\n",
      "tree\n",
      "wood\n",
      "thick\n",
      "root\n",
      "13\n",
      "floor\n",
      "building\n",
      "to pass by\n",
      "death\n",
      "to draw\n",
      "pen\n",
      "image\n",
      "to hang\n",
      "wall\n",
      "art\n",
      "18\n",
      "hole\n",
      "game\n",
      "to play\n",
      "green\n",
      "yard\n",
      "to lose\n",
      "big/large\n",
      "hand\n",
      "male\n",
      "movie\n",
      "actor\n",
      "boy\n",
      "piece\n",
      "lemon\n",
      "sugar\n",
      "cake\n",
      "fork\n",
      "plate\n",
      "17\n",
      "April\n",
      "Wednesday\n",
      "market\n",
      "food\n",
      "lunch\n",
      "bread\n",
      "beef\n",
      "banana\n",
      "shoulder\n",
      "bag\n",
      "left\n",
      "side\n",
      "to lift\n",
      "she\n",
      "to lie down\n",
      "bedroom\n",
      "ceiling\n",
      "fan\n",
      "air\n",
      "time\n",
      "16\n",
      "afternoon\n",
      "plane\n",
      "(train) ticket\n",
      "inside\n",
      "airport\n",
      "straight\n",
      "back (direction)\n",
      "cell phone\n",
      "network\n",
      "90\n",
      "minute\n",
      "to call\n",
      "friend\n",
      "to laugh\n",
      "sister\n",
      "to swim\n",
      "lake\n",
      "water\n",
      "neighbor\n",
      "to build\n",
      "81\n",
      "square\n",
      "meter\n",
      "house\n",
      "orange\n",
      "paint\n",
      "brother\n",
      "60\n",
      "second\n",
      "high\n",
      "hill\n",
      "race (sport)\n",
      "to run\n",
      "fast\n",
      "president\n",
      "to win\n",
      "election\n",
      "Tuesday\n",
      "November\n",
      "3rd\n",
      "Saturday\n",
      "bar\n",
      "21\n",
      "beer\n",
      "bottle\n",
      "bad\n",
      "student\n",
      "university\n",
      "race (ethnicity)\n",
      "skin\n",
      "color\n",
      "human\n",
      "(≠ animal)\n",
      "to fight\n",
      "sad\n",
      "nice\n",
      "secretary\n",
      "outside\n",
      "ofce\n",
      "bus\n",
      "62\n",
      "library\n",
      "card\n",
      "light (vs dark)\n",
      "blue\n",
      "shirt\n",
      "police\n",
      "gun\n",
      "to shoot\n",
      "murder\n",
      "Teacher\n",
      "school\n",
      "50\n",
      "half\n",
      "100\n",
      "to teach\n",
      "child (= boy/girl)\n",
      "pencil\n",
      "note\n",
      "girl\n",
      "dream\n",
      "to smile\n",
      "queen\n",
      "sex (gender)\n",
      "female\n",
      "gold\n",
      "head\n",
      "rich\n",
      "author\n",
      "52\n",
      "week\n",
      "to write\n",
      "1000\n",
      "page\n",
      "book\n",
      "club\n",
      "slow\n",
      "music\n",
      "to listen (music)\n",
      "instrument (musical)\n",
      "south\n",
      "west\n",
      "location\n",
      "51\n",
      "space\n",
      "(outer space)\n",
      "to fly\n",
      "Monday\n",
      "train\n",
      "82\n",
      "east\n",
      "direction\n",
      "poor\n",
      "mother\n",
      "to work\n",
      "city\n",
      "science\n",
      "magazine\n",
      "brain\n",
      "to think\n",
      "nuclear\n",
      "heat\n",
      "energy\n",
      "91\n",
      "gasoline\n",
      "engine\n",
      "car\n",
      "transportation\n",
      "to drive\n",
      "bridge\n",
      "to turn\n",
      "right\n",
      "to stop\n",
      "72\n",
      "hour\n",
      "to clean\n",
      "coat\n",
      "blood\n",
      "stain\n",
      "expensive\n",
      "bill\n",
      "low\n",
      "valley\n",
      "farm\n",
      "to feed\n",
      "cow\n",
      "milk\n",
      "to mix/stir\n",
      "cheese\n",
      "we\n",
      "4th\n",
      "July\n",
      "to hear (a sound)\n",
      "to explode\n",
      "red\n",
      "husband\n",
      "face\n",
      "beard\n",
      "10000\n",
      "short (vs long)\n",
      "black\n",
      "hair\n",
      "lip\n",
      "tooth\n",
      "to speak/say\n",
      "consonant\n",
      "sound\n",
      "14\n",
      "92\n",
      "to fnd\n",
      "country\n",
      "deep\n",
      "ocean\n",
      "wave\n",
      "no\n",
      "map\n",
      "edge\n",
      "world\n",
      "to taste\n",
      "salt\n",
      "oil\n",
      "pork\n",
      "apple\n",
      "61\n",
      "street/road\n",
      "corner\n",
      "church\n",
      "priest\n",
      "to marry\n",
      "grandfather\n",
      "hat\n",
      "suit\n",
      "weak\n",
      "knee\n",
      "to pray\n",
      "God\n",
      "peace\n",
      "newspaper\n",
      "reporter\n",
      "attack\n",
      "army\n",
      "metal\n",
      "ship\n",
      "to burn\n",
      "19\n",
      "41\n",
      "war\n",
      "silver\n",
      "material\n",
      "laptop\n",
      "to close\n",
      "October\n",
      "5th\n",
      "seed\n",
      "to grow\n",
      "pink\n",
      "flower\n",
      "to cut\n",
      "Fall\n",
      "season\n",
      "March\n",
      "camp\n",
      "daughter\n",
      "to wake up\n",
      "soft\n",
      "grass\n",
      "toe\n",
      "key\n",
      "apartment\n",
      "door\n",
      "111\n",
      "they\n",
      "to live\n",
      "roof\n",
      "old (vs young)\n",
      "sick\n",
      "grandmother\n",
      "to wash\n",
      "soap\n",
      "clean\n",
      "famous\n",
      "band\n",
      "top\n",
      "radio\n",
      "song\n",
      "100000\n",
      "person\n",
      "crowd\n",
      "to dance\n",
      "he\n",
      "mean\n",
      "to kill\n",
      "son\n",
      "knife\n",
      "hell\n",
      "fire\n",
      "religion\n",
      "71\n",
      "victim\n",
      "poison\n",
      "tea\n",
      "to die\n",
      "patient\n",
      "injury\n",
      "to break\n",
      "arm\n",
      "bone\n",
      "hospital\n",
      "room\n",
      "42\n",
      "to bend\n",
      "tongue\n",
      "to open\n",
      "mouth\n",
      "vowel\n",
      "110\n",
      "pound\n",
      "light (vs heavy)\n",
      "soldier\n",
      "brown\n",
      "dust\n",
      "pattern\n",
      "T-shirt\n",
      "father\n",
      "to watch (TV)\n",
      "32\n",
      "inch\n",
      "television\n",
      "wide\n",
      "screen\n",
      "to drink\n",
      "cool\n",
      "beverage\n"
     ]
    }
   ],
   "source": [
    "bl = client.get_block(\"https://www.notion.so/larskarbo/French-0-01-31afa53ea32b44e9a52c9525fae99d0f#08b360418227419e99f7d350185f8cf8\")\n",
    "print()\n",
    "words = bl.title.split(\"👍\")[1].replace(\"\\n\", \"–\").split(\"–\")\n",
    "\n",
    "for w in words:\n",
    "    print(w.strip())\n",
    "    row = cv.collection.add_row()\n",
    "    row.name = w.strip()"
   ]
  },
  {
   "cell_type": "code",
   "execution_count": 17,
   "metadata": {},
   "outputs": [],
   "source": [
    "def findChild(page, searchString):\n",
    "    for child in page.children:\n",
    "        if child.type == \"text\":\n",
    "            if searchString in child.title:\n",
    "                return child"
   ]
  },
  {
   "cell_type": "code",
   "execution_count": 18,
   "metadata": {},
   "outputs": [],
   "source": [
    "\n",
    "def findChildren(searchString):\n",
    "    hypos = []\n",
    "    for row in rows:\n",
    "        for child in row.children:\n",
    "            if child.type == \"text\":\n",
    "                if searchString in child.title:\n",
    "                    for h in child.children:\n",
    "                        hypos.append(h)\n",
    "    return hypos"
   ]
  },
  {
   "cell_type": "code",
   "execution_count": 19,
   "metadata": {},
   "outputs": [],
   "source": []
  },
  {
   "cell_type": "code",
   "execution_count": 20,
   "metadata": {},
   "outputs": [],
   "source": []
  },
  {
   "cell_type": "code",
   "execution_count": 22,
   "metadata": {},
   "outputs": [],
   "source": []
  },
  {
   "cell_type": "code",
   "execution_count": null,
   "metadata": {},
   "outputs": [],
   "source": []
  },
  {
   "cell_type": "code",
   "execution_count": 116,
   "metadata": {},
   "outputs": [],
   "source": [
    "reviewPage = client.get_block(\"https://www.notion.so/larskarbo/March-c1ff5f2c56d4461bab69b46d0b0b40f3\")"
   ]
  },
  {
   "cell_type": "code",
   "execution_count": 32,
   "metadata": {
    "colab": {
     "base_uri": "https://localhost:8080/",
     "height": 1000
    },
    "colab_type": "code",
    "id": "4rSKbTIYuCNn",
    "outputId": "43dc73df-bdbc-4df7-96b7-5b484750f744"
   },
   "outputs": [],
   "source": []
  },
  {
   "cell_type": "code",
   "execution_count": null,
   "metadata": {},
   "outputs": [],
   "source": []
  },
  {
   "cell_type": "code",
   "execution_count": null,
   "metadata": {
    "colab": {},
    "colab_type": "code",
    "id": "0Pean_YRv7tf"
   },
   "outputs": [],
   "source": []
  },
  {
   "cell_type": "code",
   "execution_count": 27,
   "metadata": {},
   "outputs": [
    {
     "name": "stdout",
     "output_type": "stream",
     "text": [
      "start\n"
     ]
    }
   ],
   "source": [
    "# old!!\n",
    "grats = []\n",
    "for row in rows:\n",
    "    for child in row.children:\n",
    "        if child.type == \"column_list\":\n",
    "            for block in child.children[0].children:\n",
    "                if \"Eg er takknemlig\" in block.title:\n",
    "\n",
    "                    gratitudes = child.children[0].children[1:]\n",
    "                    for g in gratitudes:\n",
    "\n",
    "                        grats.append(g.title)\n"
   ]
  },
  {
   "cell_type": "code",
   "execution_count": 127,
   "metadata": {},
   "outputs": [],
   "source": [
    "# new!!\n",
    "grats = []\n",
    "for row in rows:\n",
    "    for child in row.children:\n",
    "        if child.type == \"numbered_list\":\n",
    "            grats.append(child.title)\n"
   ]
  },
  {
   "cell_type": "code",
   "execution_count": 128,
   "metadata": {},
   "outputs": [
    {
     "name": "stdout",
     "output_type": "stream",
     "text": [
      "27\n"
     ]
    }
   ],
   "source": [
    "print(len(grats))"
   ]
  },
  {
   "cell_type": "code",
   "execution_count": 125,
   "metadata": {},
   "outputs": [
    {
     "name": "stdout",
     "output_type": "stream",
     "text": [
      "['hypo: E har noken indre demonar eg må bli kvitt', 'hypo: Når eg ikkje får ting gjort blir eg sårbar', 'hypo: Trening funka bra som medisin når ting er helvete', 'hypo: Deilig å føle belønning i dusjen etter trening', 'hypo: Smil gjorde at e fikk cyri', 'hard: Concentrating when cyri in mind', 'hypo: Sosialt samvær (ete middag med gode venner) er jævlig viktig for livskvalitet og lykke.', 'hard: Concentrate and work', 'hypo: Øl tar motivasjon over en kant igjen.', 'hard: Going early home', 'hypo: har låkt i rassen ca 8 timar etter driting']\n"
     ]
    }
   ],
   "source": [
    "# new!!\n",
    "hypos = []\n",
    "for row in rows:\n",
    "    h = findChild(row, \"Andre hypoteser\")\n",
    "    for c in h.children:\n",
    "        if len(c.title):\n",
    "            hypos.append(\"hypo: \" + c.title)\n",
    "    h = findChild(row, \"hard today\")\n",
    "    if h:\n",
    "        for c in h.children:\n",
    "            if len(c.title):\n",
    "                hypos.append(\"hard: \" + c.title)\n",
    "\n",
    "print(hypos)"
   ]
  },
  {
   "cell_type": "code",
   "execution_count": 132,
   "metadata": {},
   "outputs": [],
   "source": [
    "hblock = findChild(reviewPage, \"Grati\")\n",
    "for h in grats:\n",
    "    hblock.children.add_new(BulletedListBlock, title=(h))"
   ]
  },
  {
   "cell_type": "code",
   "execution_count": 43,
   "metadata": {},
   "outputs": [
    {
     "data": {
      "text/plain": [
       "'{'"
      ]
     },
     "execution_count": 43,
     "metadata": {},
     "output_type": "execute_result"
    }
   ],
   "source": [
    "\"{onononononono}\"[:1]"
   ]
  },
  {
   "cell_type": "code",
   "execution_count": 46,
   "metadata": {},
   "outputs": [
    {
     "name": "stdout",
     "output_type": "stream",
     "text": [
      "{0: None, 1: None, 2: 'fire', 3: None, 4: None}\n"
     ]
    }
   ],
   "source": [
    "horse = {\n",
    "            0: None,\n",
    "            1: None,\n",
    "            2: None,\n",
    "            3: None,\n",
    "            4: None,\n",
    "        }\n",
    "horse[2] = \"fire\"\n",
    "print(horse)"
   ]
  },
  {
   "cell_type": "code",
   "execution_count": 61,
   "metadata": {},
   "outputs": [
    {
     "name": "stdout",
     "output_type": "stream",
     "text": [
      "50\n"
     ]
    }
   ],
   "source": [
    "def _impedance_to_percent(imp):\n",
    "    impmax = 400\n",
    "    impmin = 100\n",
    "    if imp > impmax:\n",
    "        return 0\n",
    "    elif imp < impmin:\n",
    "        return 100\n",
    "\n",
    "    progress_from_impmax_to_impmin = (400 - imp) / 300\n",
    "    return round(progress_from_impmax_to_impmin * 100)\n",
    "\n",
    "print(_impedance_to_percent(250))\n"
   ]
  },
  {
   "cell_type": "code",
   "execution_count": 79,
   "metadata": {},
   "outputs": [
    {
     "data": {
      "text/plain": [
       "'⣾⣽⣻⢿⡿⣟⣯'"
      ]
     },
     "execution_count": 79,
     "metadata": {},
     "output_type": "execute_result"
    }
   ],
   "source": [
    "\"⣾⣽⣻⢿⡿⣟⣯⣷\"[:-1]\n"
   ]
  },
  {
   "cell_type": "code",
   "execution_count": 76,
   "metadata": {},
   "outputs": [],
   "source": [
    "import time\n",
    "\n",
    "t = time.time()"
   ]
  },
  {
   "cell_type": "code",
   "execution_count": 85,
   "metadata": {},
   "outputs": [
    {
     "name": "stdout",
     "output_type": "stream",
     "text": [
      "7112.423672914505\n",
      "1\n"
     ]
    }
   ],
   "source": [
    "h = \"#38[-0.000682557879266673,-0.00001063627482033247]\".split(\"#\")[1].split(\"[\")[0]\n",
    "\n",
    "print(time.time() - t)\n",
    "print(201%200)"
   ]
  },
  {
   "cell_type": "code",
   "execution_count": 108,
   "metadata": {},
   "outputs": [
    {
     "name": "stdout",
     "output_type": "stream",
     "text": [
      "-1\n"
     ]
    },
    {
     "data": {
      "text/plain": [
       "'153[-0.0003620653023096403,-0.000019127717147886924]'"
      ]
     },
     "execution_count": 108,
     "metadata": {},
     "output_type": "execute_result"
    }
   ],
   "source": [
    "st = \"(153[-0.0003620653023096403,-0.000019127717147886924])(153[-0.000362065302\"\n",
    "print(st.find(\"%\"))\n",
    "st[st.find(\"(\")+1:st.find(\")\")]"
   ]
  },
  {
   "cell_type": "code",
   "execution_count": null,
   "metadata": {},
   "outputs": [],
   "source": []
  },
  {
   "cell_type": "code",
   "execution_count": 109,
   "metadata": {},
   "outputs": [
    {
     "name": "stdout",
     "output_type": "stream",
     "text": [
      "🦜:  (153[-0.0003620653023096403,-0000019127717147886924])(153[-0.000362065302\n",
      "realstring 153[-0.0003620653023096403,-0000019127717147886924]\n",
      "rest (153[-0.000362065302\n",
      "🦜:  (153[-0.000362065302\n",
      "no end char found, saving for later\n"
     ]
    },
    {
     "data": {
      "text/plain": [
       "'(153[-0.000362065302'"
      ]
     },
     "execution_count": 109,
     "metadata": {},
     "output_type": "execute_result"
    }
   ],
   "source": [
    "def process_string(st):\n",
    "    print(\"🦜: \", st)\n",
    "    if len(st) == 0:\n",
    "        return \"\"\n",
    "    if not st[:1] == \"(\":\n",
    "        # broken package?\n",
    "        first_open_index = st.find(\"(\")\n",
    "        print(\"couldn't make sense of this: \", st[:first_open_index])\n",
    "        return process_string(st[first_open_index:])\n",
    "    else:\n",
    "        first_end_index = st.find(\")\")\n",
    "        if first_end_index == -1:\n",
    "            print(\"no end char found, saving for later\")\n",
    "            return st\n",
    "        else:\n",
    "            realstring = st[1:first_end_index]\n",
    "            rest = st[first_end_index+1:]\n",
    "            \n",
    "            print(\"realstring\", realstring)\n",
    "            print(\"rest\", rest)\n",
    "            return process_string(rest)\n",
    "\n",
    "process_string(\"(153[-0.0003620653023096403,-0000019127717147886924])(153[-0.000362065302\")"
   ]
  }
 ],
 "metadata": {
  "colab": {
   "collapsed_sections": [],
   "name": "notion-table-worker-NYLAS_ONLINE_PEOPLE.ipynb",
   "provenance": []
  },
  "kernelspec": {
   "display_name": "Python 3",
   "language": "python",
   "name": "python3"
  },
  "language_info": {
   "codemirror_mode": {
    "name": "ipython",
    "version": 3
   },
   "file_extension": ".py",
   "mimetype": "text/x-python",
   "name": "python",
   "nbconvert_exporter": "python",
   "pygments_lexer": "ipython3",
   "version": "3.6.8"
  }
 },
 "nbformat": 4,
 "nbformat_minor": 1
}

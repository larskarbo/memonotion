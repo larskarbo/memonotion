{
 "cells": [
  {
   "cell_type": "code",
   "execution_count": 2,
   "metadata": {},
   "outputs": [],
   "source": [
    "import csv\n",
    "import requests\n",
    "import datetime\n",
    "import re"
   ]
  },
  {
   "cell_type": "code",
   "execution_count": 30,
   "metadata": {},
   "outputs": [
    {
     "name": "stdout",
     "output_type": "stream",
     "text": [
      "Tidsmerke\n",
      "Dato\n",
      "Når la du deg i sengen?\n",
      "Når bestemte du deg for å prøve å sovne?\n",
      "Hvor lang tid tok det å sovne? (omtrent)\n",
      "Hvor mange ganger våknet du i løpet av natten? (uten å telle med siste oppvåkning)\n",
      "Hvor lenge var du våken totalt i løpet av disse nattlige oppvåkningene? (omtrent hvor lenge du var våken)\n",
      "Når våknet du opp om morgenen uten å få sove igjen? Svar tidspunktet for din endelige oppvåkning.\n",
      "Når sto du opp? (siste gang)\n",
      "Hvor mange ganger tok du en blund eller duppet av i løpet av dagen?\n",
      "Om du inntok alkohol, hvor mange enheter?\n",
      "Drakk du koffeinholdige drikker (kaffi, te, brus, etc)? Isåfall, hvor mange?\n",
      "Om du tok sovemedisin, skriv mengde og type her.\n",
      "Trente du?\n",
      "Når åt du siste matbit før du la deg?\n",
      "Hvor uthvilt følte du deg når du sto opp for å starte dagen?\n",
      "Hvordan vil du rangere søvnkvaliteten?\n",
      "Processed 16 lines.\n"
     ]
    }
   ],
   "source": [
    "entries = []\n",
    "with open('sleepdiaryinger.csv') as csv_file:\n",
    "    csv_reader = csv.reader(csv_file, delimiter=',')\n",
    "    line_count = 0\n",
    "    for row in csv_reader:\n",
    "        if line_count == 0:\n",
    "            for cn in row:\n",
    "                \n",
    "                print(cn)\n",
    "            line_count += 1\n",
    "        else:\n",
    "            entries.append(row)\n",
    "            line_count += 1\n",
    "    print(f'Processed {line_count} lines.')"
   ]
  },
  {
   "cell_type": "code",
   "execution_count": 10,
   "metadata": {},
   "outputs": [
    {
     "data": {
      "text/plain": [
       "'00'"
      ]
     },
     "execution_count": 10,
     "metadata": {},
     "output_type": "execute_result"
    }
   ],
   "source": [
    "'kl. 00.09.00'[4:6]"
   ]
  },
  {
   "cell_type": "code",
   "execution_count": 37,
   "metadata": {},
   "outputs": [
    {
     "name": "stdout",
     "output_type": "stream",
     "text": [
      "['29.01.2020 kl. 08.16.46', '28.01.2020', 'kl. 00.09.00', 'kl. 00.09.00', '15-30 min', '0', '0-15 min', 'kl. 06.30.00', 'kl. 08.00.00', 'Ingen', 'Inntok ikke alkohol', '1', 'Bio-melatonin (Pharma Nord 1 mg)', 'Nei', 'kl. 21.00.00', '2', '4']\n",
      "15-30 min\n",
      "0-15 min\n",
      "{'user_id': '', 'entryDate': '28.01.2020', 'bedTime': '00:09', 'decideSleepTime': '00:09', 'sleepOnsetDelay': 22.5, 'nightAwakenings': '0', 'awakeDuringNightAwakenings': 7.5, 'lastAwakening': '06:30', 'wakeUpFromBed': '08:00', 'naps': 0, 'alcoholicUnits': 0, 'caffeinatedUnits': '1', 'sleepMedication': 'Bio-melatonin (Pharma Nord 1 mg)', 'workout': False, 'lastFood': '21:00', 'howWellRested': '2', 'sleepQuality': '4'}\n",
      "['30.01.2020 kl. 08.17.38', '29.01.2020', 'kl. 23.45.00', 'kl. 23.45.00', '30-60 min', '1', '15-30 min', 'kl. 07.44.00', 'kl. 08.13.00', 'Ingen', 'Inntok ikke alkohol', '1', 'Bio-Melatonin 1mg (en tablett hver kveld)', 'Nei', 'kl. 20.00.00', '1', '3']\n",
      "30-60 min\n",
      "15-30 min\n",
      "{'user_id': '', 'entryDate': '29.01.2020', 'bedTime': '23:45', 'decideSleepTime': '23:45', 'sleepOnsetDelay': 45.0, 'nightAwakenings': '1', 'awakeDuringNightAwakenings': 22.5, 'lastAwakening': '07:44', 'wakeUpFromBed': '08:13', 'naps': 0, 'alcoholicUnits': 0, 'caffeinatedUnits': '1', 'sleepMedication': 'Bio-Melatonin 1mg (en tablett hver kveld)', 'workout': False, 'lastFood': '20:00', 'howWellRested': '1', 'sleepQuality': '3'}\n",
      "['31.01.2020 kl. 08.27.15', '30.01.2020', 'kl. 00.30.00', 'kl. 00.30.00', '0-15 min', '0', '0-15 min', 'kl. 07.50.00', 'kl. 08.25.00', 'Ingen', 'Inntok ikke alkohol', '1', 'Bio-Melatonin (1mg)', 'Nei', 'kl. 20.00.00', '3', '4']\n",
      "0-15 min\n",
      "0-15 min\n",
      "{'user_id': '', 'entryDate': '30.01.2020', 'bedTime': '00:30', 'decideSleepTime': '00:30', 'sleepOnsetDelay': 7.5, 'nightAwakenings': '0', 'awakeDuringNightAwakenings': 7.5, 'lastAwakening': '07:50', 'wakeUpFromBed': '08:25', 'naps': 0, 'alcoholicUnits': 0, 'caffeinatedUnits': '1', 'sleepMedication': 'Bio-Melatonin (1mg)', 'workout': False, 'lastFood': '20:00', 'howWellRested': '3', 'sleepQuality': '4'}\n",
      "['01.02.2020 kl. 09.51.25', '31.01.2020', 'kl. 00.40.00', 'kl. 00.40.00', '15-30 min', '1', '0-15 min', 'kl. 09.42.00', 'kl. 09.50.00', 'Ingen', '1', '1', 'Bio-Melatonin 1mg', 'Nei', 'kl. 20.30.00', '4', '3']\n",
      "15-30 min\n",
      "0-15 min\n",
      "{'user_id': '', 'entryDate': '31.01.2020', 'bedTime': '00:40', 'decideSleepTime': '00:40', 'sleepOnsetDelay': 22.5, 'nightAwakenings': '1', 'awakeDuringNightAwakenings': 7.5, 'lastAwakening': '09:42', 'wakeUpFromBed': '09:50', 'naps': 0, 'alcoholicUnits': '1', 'caffeinatedUnits': '1', 'sleepMedication': 'Bio-Melatonin 1mg', 'workout': False, 'lastFood': '20:30', 'howWellRested': '4', 'sleepQuality': '3'}\n",
      "['02.02.2020 kl. 10.30.57', '01.02.2020', 'kl. 23.44.00', 'kl. 23.44.00', '15-30 min', '1', '0-15 min', 'kl. 08.55.00', 'kl. 10.25.00', 'Ingen', 'Inntok ikke alkohol', 'Drakk ikke koffeinholdige drikker', 'Bil-Melatoning 1 mg', 'Nei', 'kl. 20.10.00', '2', '3']\n",
      "15-30 min\n",
      "0-15 min\n",
      "{'user_id': '', 'entryDate': '01.02.2020', 'bedTime': '23:44', 'decideSleepTime': '23:44', 'sleepOnsetDelay': 22.5, 'nightAwakenings': '1', 'awakeDuringNightAwakenings': 7.5, 'lastAwakening': '08:55', 'wakeUpFromBed': '10:25', 'naps': 0, 'alcoholicUnits': 0, 'caffeinatedUnits': 0, 'sleepMedication': 'Bil-Melatoning 1 mg', 'workout': False, 'lastFood': '20:10', 'howWellRested': '2', 'sleepQuality': '3'}\n",
      "['03.02.2020 kl. 08.34.57', '02.02.2020', 'kl. 00.01.00', 'kl. 00.01.00', '30-60 min', '0', '0-15 min', 'kl. 07.14.00', 'kl. 07.20.00', 'Ingen', 'Inntok ikke alkohol', 'Drakk ikke koffeinholdige drikker', 'VIP-Melatonin 1 mg', 'Nei', 'kl. 19.40.00', '5', '4']\n",
      "30-60 min\n",
      "0-15 min\n",
      "{'user_id': '', 'entryDate': '02.02.2020', 'bedTime': '00:01', 'decideSleepTime': '00:01', 'sleepOnsetDelay': 45.0, 'nightAwakenings': '0', 'awakeDuringNightAwakenings': 7.5, 'lastAwakening': '07:14', 'wakeUpFromBed': '07:20', 'naps': 0, 'alcoholicUnits': 0, 'caffeinatedUnits': 0, 'sleepMedication': 'VIP-Melatonin 1 mg', 'workout': False, 'lastFood': '19:40', 'howWellRested': '5', 'sleepQuality': '4'}\n",
      "['04.02.2020 kl. 07.40.25', '03.02.2020', 'kl. 23.09.00', 'kl. 23.20.00', '0-15 min', '0', '0-15 min', 'kl. 07.20.00', 'kl. 07.40.00', 'Ingen', 'Inntok ikke alkohol', 'Drakk ikke koffeinholdige drikker', 'Bio-Melatonin 1mg', 'Nei', 'kl. 20.20.00', '2', '3']\n",
      "0-15 min\n",
      "0-15 min\n",
      "{'user_id': '', 'entryDate': '03.02.2020', 'bedTime': '23:09', 'decideSleepTime': '23:20', 'sleepOnsetDelay': 7.5, 'nightAwakenings': '0', 'awakeDuringNightAwakenings': 7.5, 'lastAwakening': '07:20', 'wakeUpFromBed': '07:40', 'naps': 0, 'alcoholicUnits': 0, 'caffeinatedUnits': 0, 'sleepMedication': 'Bio-Melatonin 1mg', 'workout': False, 'lastFood': '20:20', 'howWellRested': '2', 'sleepQuality': '3'}\n",
      "['05.02.2020 kl. 08.07.35', '04.02.2020', 'kl. 23.10.00', 'kl. 23.10.00', '30-60 min', '1', '0-15 min', 'kl. 07.20.00', 'kl. 08.10.00', 'Ingen', 'Inntok ikke alkohol', '1', 'Bio-melatonin 1mg', 'Nei', 'kl. 20.00.00', '1', '2']\n",
      "30-60 min\n",
      "0-15 min\n",
      "{'user_id': '', 'entryDate': '04.02.2020', 'bedTime': '23:10', 'decideSleepTime': '23:10', 'sleepOnsetDelay': 45.0, 'nightAwakenings': '1', 'awakeDuringNightAwakenings': 7.5, 'lastAwakening': '07:20', 'wakeUpFromBed': '08:10', 'naps': 0, 'alcoholicUnits': 0, 'caffeinatedUnits': '1', 'sleepMedication': 'Bio-melatonin 1mg', 'workout': False, 'lastFood': '20:00', 'howWellRested': '1', 'sleepQuality': '2'}\n",
      "['05.02.2020 kl. 09.45.45', '04.02.2020', 'kl. 23.10.00', 'kl. 23.10.00', '30-60 min', '1', '0-15 min', 'kl. 07.20.00', 'kl. 08.10.00', 'Ingen', 'Inntok ikke alkohol', '1', 'Bio-melatonin 1mg', 'Nei', 'kl. 20.00.00', '1', '2']\n",
      "30-60 min\n",
      "0-15 min\n",
      "{'user_id': '', 'entryDate': '04.02.2020', 'bedTime': '23:10', 'decideSleepTime': '23:10', 'sleepOnsetDelay': 45.0, 'nightAwakenings': '1', 'awakeDuringNightAwakenings': 7.5, 'lastAwakening': '07:20', 'wakeUpFromBed': '08:10', 'naps': 0, 'alcoholicUnits': 0, 'caffeinatedUnits': '1', 'sleepMedication': 'Bio-melatonin 1mg', 'workout': False, 'lastFood': '20:00', 'howWellRested': '1', 'sleepQuality': '2'}\n",
      "['06.02.2020 kl. 07.46.04', '05.02.2020', 'kl. 23.10.00', 'kl. 23.10.00', '15-30 min', '0', '0-15 min', 'kl. 07.10.00', 'kl. 07.45.00', 'Ingen', 'Inntok ikke alkohol', 'Drakk ikke koffeinholdige drikker', 'Niks, er tom', 'Nei', 'kl. 20.30.00', '2', '3']\n",
      "15-30 min\n",
      "0-15 min\n",
      "{'user_id': '', 'entryDate': '05.02.2020', 'bedTime': '23:10', 'decideSleepTime': '23:10', 'sleepOnsetDelay': 22.5, 'nightAwakenings': '0', 'awakeDuringNightAwakenings': 7.5, 'lastAwakening': '07:10', 'wakeUpFromBed': '07:45', 'naps': 0, 'alcoholicUnits': 0, 'caffeinatedUnits': 0, 'sleepMedication': 'Niks, er tom', 'workout': False, 'lastFood': '20:30', 'howWellRested': '2', 'sleepQuality': '3'}\n",
      "['07.02.2020 kl. 07.45.47', '06.02.2020', 'kl. 23.11.00', 'kl. 23.11.00', '15-30 min', '0', '0-15 min', 'kl. 07.20.00', 'kl. 07.45.00', 'Ingen', 'Inntok ikke alkohol', 'Drakk ikke koffeinholdige drikker', '', 'Nei', 'kl. 21.00.00', '2', '3']\n",
      "15-30 min\n",
      "0-15 min\n",
      "{'user_id': '', 'entryDate': '06.02.2020', 'bedTime': '23:11', 'decideSleepTime': '23:11', 'sleepOnsetDelay': 22.5, 'nightAwakenings': '0', 'awakeDuringNightAwakenings': 7.5, 'lastAwakening': '07:20', 'wakeUpFromBed': '07:45', 'naps': 0, 'alcoholicUnits': 0, 'caffeinatedUnits': 0, 'sleepMedication': '', 'workout': False, 'lastFood': '21:00', 'howWellRested': '2', 'sleepQuality': '3'}\n",
      "['08.02.2020 kl. 09.22.50', '07.02.2020', 'kl. 01.20.00', 'kl. 01.20.00', '30-60 min', '1', '0-15 min', 'kl. 07.48.00', 'kl. 09.16.00', 'Ingen', 'Inntok ikke alkohol', 'Drakk ikke koffeinholdige drikker', '', 'Nei', 'kl. 14.40.00', '3', '2']\n",
      "30-60 min\n",
      "0-15 min\n",
      "{'user_id': '', 'entryDate': '07.02.2020', 'bedTime': '01:20', 'decideSleepTime': '01:20', 'sleepOnsetDelay': 45.0, 'nightAwakenings': '1', 'awakeDuringNightAwakenings': 7.5, 'lastAwakening': '07:48', 'wakeUpFromBed': '09:16', 'naps': 0, 'alcoholicUnits': 0, 'caffeinatedUnits': 0, 'sleepMedication': '', 'workout': False, 'lastFood': '14:40', 'howWellRested': '3', 'sleepQuality': '2'}\n",
      "['09.02.2020 kl. 10.19.36', '08.02.2020', 'kl. 01.20.00', 'kl. 01.20.00', '30-60 min', '4', '15-30 min', 'kl. 10.16.00', 'kl. 10.20.00', 'Ingen', 'Inntok ikke alkohol', 'Drakk ikke koffeinholdige drikker', '', 'Nei', 'kl. 21.00.00', '2', '2']\n",
      "30-60 min\n",
      "15-30 min\n",
      "{'user_id': '', 'entryDate': '08.02.2020', 'bedTime': '01:20', 'decideSleepTime': '01:20', 'sleepOnsetDelay': 45.0, 'nightAwakenings': '4', 'awakeDuringNightAwakenings': 22.5, 'lastAwakening': '10:16', 'wakeUpFromBed': '10:20', 'naps': 0, 'alcoholicUnits': 0, 'caffeinatedUnits': 0, 'sleepMedication': '', 'workout': False, 'lastFood': '21:00', 'howWellRested': '2', 'sleepQuality': '2'}\n"
     ]
    },
    {
     "name": "stdout",
     "output_type": "stream",
     "text": [
      "['10.02.2020 kl. 10.31.18', '09.02.2020', 'kl. 00.07.00', 'kl. 00.07.00', '15-30 min', '1', '0-15 min', 'kl. 08.32.00', 'kl. 08.52.00', 'Ingen', 'Inntok ikke alkohol', 'Drakk ikke koffeinholdige drikker', '', 'Nei', 'kl. 20.30.00', '3', '3']\n",
      "15-30 min\n",
      "0-15 min\n",
      "{'user_id': '', 'entryDate': '09.02.2020', 'bedTime': '00:07', 'decideSleepTime': '00:07', 'sleepOnsetDelay': 22.5, 'nightAwakenings': '1', 'awakeDuringNightAwakenings': 7.5, 'lastAwakening': '08:32', 'wakeUpFromBed': '08:52', 'naps': 0, 'alcoholicUnits': 0, 'caffeinatedUnits': 0, 'sleepMedication': '', 'workout': False, 'lastFood': '20:30', 'howWellRested': '3', 'sleepQuality': '3'}\n",
      "['11.02.2020 kl. 09.10.27', '10.02.2020', 'kl. 00.14.00', 'kl. 00.14.00', '15-30 min', '1', '0-15 min', 'kl. 09.00.00', 'kl. 09.10.00', 'Ingen', 'Inntok ikke alkohol', 'Drakk ikke koffeinholdige drikker', '', 'Nei', 'kl. 21.00.00', '3', '4']\n",
      "15-30 min\n",
      "0-15 min\n",
      "{'user_id': '', 'entryDate': '10.02.2020', 'bedTime': '00:14', 'decideSleepTime': '00:14', 'sleepOnsetDelay': 22.5, 'nightAwakenings': '1', 'awakeDuringNightAwakenings': 7.5, 'lastAwakening': '09:00', 'wakeUpFromBed': '09:10', 'naps': 0, 'alcoholicUnits': 0, 'caffeinatedUnits': 0, 'sleepMedication': '', 'workout': False, 'lastFood': '21:00', 'howWellRested': '3', 'sleepQuality': '4'}\n"
     ]
    }
   ],
   "source": [
    "def removeNonNumbers(d):\n",
    "    return re.sub(\"[^0-9]\", \"\", d)\n",
    "\n",
    "\n",
    "def timeParse(d):\n",
    "    return datetime.datetime.strptime(d, 'kl. %H.%M.00').strftime(\"%H:%M\")\n",
    "\n",
    "def durationParse(d):\n",
    "    print(d)\n",
    "    splitted = d.split(\"-\")\n",
    "    num1 = splitted[0]\n",
    "    num2 = removeNonNumbers(splitted[1])\n",
    "    return (int(num1) + int(num2)) / 2\n",
    "\n",
    "def numParse(d):\n",
    "    if d == \"Ingen\" or \"ikke\" in d:\n",
    "        return 0\n",
    "    if \" eller flere\" in d:\n",
    "        return removeNonNumbers(d)\n",
    "    if \"-\" in d:\n",
    "        return durationParse(d)\n",
    "    return d\n",
    "\n",
    "def boolParse(d):\n",
    "    if d == \"Nei\":\n",
    "        return False\n",
    "    if d == \"Ja\":\n",
    "        return True\n",
    "    \n",
    "\n",
    "for e in entries:\n",
    "    print(e)\n",
    "    dbformat = {\n",
    "      \"user_id\": \"\",\n",
    "\n",
    "      \"entryDate\": e[1],\n",
    "      \"bedTime\": timeParse(e[2]),\n",
    "      \"decideSleepTime\": timeParse(e[3]),\n",
    "      \"sleepOnsetDelay\": durationParse(e[4]),\n",
    "      \"nightAwakenings\": e[5],\n",
    "      \"awakeDuringNightAwakenings\": durationParse(e[6]),\n",
    "      \"lastAwakening\": timeParse(e[7]),\n",
    "      \"wakeUpFromBed\": timeParse(e[8]),\n",
    "      \"naps\": numParse(e[9]),\n",
    "      \"alcoholicUnits\": numParse(e[10]),\n",
    "      \"caffeinatedUnits\": numParse(e[11]),\n",
    "      \"sleepMedication\": e[12],\n",
    "      \"workout\": boolParse(e[13]),\n",
    "      \"lastFood\": timeParse(e[14]),\n",
    "      \"howWellRested\": e[15],\n",
    "      \"sleepQuality\": e[16]\n",
    "    }\n",
    "    print(dbformat)\n",
    "    requests.post(\"https://b5cfe3c5.ngrok.io/addSleepDiaryEntry\", json=dbformat)"
   ]
  }
 ],
 "metadata": {
  "kernelspec": {
   "display_name": "Python 3",
   "language": "python",
   "name": "python3"
  },
  "language_info": {
   "codemirror_mode": {
    "name": "ipython",
    "version": 3
   },
   "file_extension": ".py",
   "mimetype": "text/x-python",
   "name": "python",
   "nbconvert_exporter": "python",
   "pygments_lexer": "ipython3",
   "version": "3.6.8"
  }
 },
 "nbformat": 4,
 "nbformat_minor": 2
}

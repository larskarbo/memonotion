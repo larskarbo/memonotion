{
 "cells": [
  {
   "cell_type": "code",
   "execution_count": 2,
   "metadata": {
    "colab": {
     "base_uri": "https://localhost:8080/",
     "height": 102
    },
    "colab_type": "code",
    "id": "his3Hj4PhnLl",
    "outputId": "1d5eaa07-2b1f-426c-b7d6-c73eeaabad91"
   },
   "outputs": [],
   "source": [
    "!pip install --upgrade --quiet notion"
   ]
  },
  {
   "cell_type": "code",
   "execution_count": 11,
   "metadata": {
    "colab": {},
    "colab_type": "code",
    "id": "yvpkG_P-bTxe"
   },
   "outputs": [],
   "source": [
    "import random\n",
    "\n",
    "from notion.client import NotionClient\n",
    "from notion.block import TextBlock, ImageBlock, BulletedListBlock\n",
    "\n",
    "import requests"
   ]
  },
  {
   "cell_type": "code",
   "execution_count": 4,
   "metadata": {
    "colab": {},
    "colab_type": "code",
    "id": "qaupPKwlcGAa"
   },
   "outputs": [
    {
     "name": "stdout",
     "output_type": "stream",
     "text": [
      "horsfe\n"
     ]
    }
   ],
   "source": []
  },
  {
   "cell_type": "code",
   "execution_count": 17,
   "metadata": {
    "colab": {},
    "colab_type": "code",
    "id": "uQMol9MFlOa0"
   },
   "outputs": [],
   "source": [
    "\n",
    "\n",
    "def findChild(page, searchString):\n",
    "    for child in page.children:\n",
    "        if child.type == \"text\":\n",
    "            if searchString in child.title:\n",
    "                return child\n",
    "\n"
   ]
  },
  {
   "cell_type": "code",
   "execution_count": 5,
   "metadata": {
    "colab": {},
    "colab_type": "code",
    "id": "6ArzJghvhwGe"
   },
   "outputs": [],
   "source": []
  },
  {
   "cell_type": "code",
   "execution_count": 5,
   "metadata": {
    "colab": {},
    "colab_type": "code",
    "id": "Zr1o7JjoiK2J"
   },
   "outputs": [],
   "source": [
    "client = NotionClient(token_v2=\"44b8f17ddd1ebb037d6f7c92e55bb547b10a02465b68bda1f21757399dcb44dd05558ff355309d6ce173cb0b2a22c68122ac48abc1a4a69659d5717f78396a6f30d9b1c89806343f09685428b2c5\")\n",
    "\n"
   ]
  },
  {
   "cell_type": "code",
   "execution_count": 25,
   "metadata": {},
   "outputs": [
    {
     "name": "stdout",
     "output_type": "stream",
     "text": [
      "{'text': 'From error to error one discovers the entire truth.', 'author': 'Sigmund Freud'}\n"
     ]
    }
   ],
   "source": [
    "quotes = requests.get(\"https://type.fit/api/quotes\")\n",
    "quote = random.choice(quotes.json())\n",
    "print(quote)"
   ]
  },
  {
   "cell_type": "code",
   "execution_count": 18,
   "metadata": {},
   "outputs": [],
   "source": [
    "template = client.get_block(\"https://www.notion.so/larskarbo/Daily-entry-c9e4a17b8bdb4664b188a12521a62954\")"
   ]
  },
  {
   "cell_type": "code",
   "execution_count": 26,
   "metadata": {
    "colab": {
     "base_uri": "https://localhost:8080/",
     "height": 1000
    },
    "colab_type": "code",
    "id": "0sv10X1uixrX",
    "outputId": "5434dff0-6685-4ded-d7df-a1da9fd50487"
   },
   "outputs": [
    {
     "data": {
      "text/plain": [
       "<TextBlock (id='9dabf120-2ca3-4de4-88d3-b6d911d56d35', title='__From error to error one discovers the entire truth.__ -Sigmund Freud')>"
      ]
     },
     "execution_count": 26,
     "metadata": {},
     "output_type": "execute_result"
    }
   ],
   "source": [
    "quoteHolder = findChild(template, \"Motivational quote of the day\")\n",
    "\n",
    "for child in quoteHolder.children:\n",
    "    child.remove()\n",
    "\n",
    "quoteHolder.children.add_new(TextBlock, title=(\"**\" + quote[\"text\"] + \"** -\" + quote[\"author\"]))"
   ]
  },
  {
   "cell_type": "code",
   "execution_count": 115,
   "metadata": {},
   "outputs": [
    {
     "data": {
      "text/plain": [
       "9"
      ]
     },
     "execution_count": 115,
     "metadata": {},
     "output_type": "execute_result"
    }
   ],
   "source": [
    "len(rows)"
   ]
  },
  {
   "cell_type": "code",
   "execution_count": null,
   "metadata": {},
   "outputs": [],
   "source": []
  },
  {
   "cell_type": "code",
   "execution_count": 17,
   "metadata": {},
   "outputs": [],
   "source": []
  },
  {
   "cell_type": "code",
   "execution_count": 18,
   "metadata": {},
   "outputs": [],
   "source": []
  },
  {
   "cell_type": "code",
   "execution_count": 19,
   "metadata": {},
   "outputs": [],
   "source": []
  },
  {
   "cell_type": "code",
   "execution_count": 20,
   "metadata": {},
   "outputs": [],
   "source": []
  },
  {
   "cell_type": "code",
   "execution_count": 22,
   "metadata": {},
   "outputs": [],
   "source": []
  },
  {
   "cell_type": "code",
   "execution_count": null,
   "metadata": {},
   "outputs": [],
   "source": []
  },
  {
   "cell_type": "code",
   "execution_count": 116,
   "metadata": {},
   "outputs": [],
   "source": []
  },
  {
   "cell_type": "code",
   "execution_count": 32,
   "metadata": {
    "colab": {
     "base_uri": "https://localhost:8080/",
     "height": 1000
    },
    "colab_type": "code",
    "id": "4rSKbTIYuCNn",
    "outputId": "43dc73df-bdbc-4df7-96b7-5b484750f744"
   },
   "outputs": [],
   "source": []
  },
  {
   "cell_type": "code",
   "execution_count": null,
   "metadata": {},
   "outputs": [],
   "source": []
  },
  {
   "cell_type": "code",
   "execution_count": null,
   "metadata": {
    "colab": {},
    "colab_type": "code",
    "id": "0Pean_YRv7tf"
   },
   "outputs": [],
   "source": []
  },
  {
   "cell_type": "code",
   "execution_count": 27,
   "metadata": {},
   "outputs": [
    {
     "name": "stdout",
     "output_type": "stream",
     "text": [
      "start\n"
     ]
    }
   ],
   "source": []
  },
  {
   "cell_type": "code",
   "execution_count": 127,
   "metadata": {},
   "outputs": [],
   "source": []
  },
  {
   "cell_type": "code",
   "execution_count": 128,
   "metadata": {},
   "outputs": [
    {
     "name": "stdout",
     "output_type": "stream",
     "text": [
      "27\n"
     ]
    }
   ],
   "source": []
  },
  {
   "cell_type": "code",
   "execution_count": 125,
   "metadata": {},
   "outputs": [
    {
     "name": "stdout",
     "output_type": "stream",
     "text": [
      "['hypo: E har noken indre demonar eg må bli kvitt', 'hypo: Når eg ikkje får ting gjort blir eg sårbar', 'hypo: Trening funka bra som medisin når ting er helvete', 'hypo: Deilig å føle belønning i dusjen etter trening', 'hypo: Smil gjorde at e fikk cyri', 'hard: Concentrating when cyri in mind', 'hypo: Sosialt samvær (ete middag med gode venner) er jævlig viktig for livskvalitet og lykke.', 'hard: Concentrate and work', 'hypo: Øl tar motivasjon over en kant igjen.', 'hard: Going early home', 'hypo: har låkt i rassen ca 8 timar etter driting']\n"
     ]
    }
   ],
   "source": []
  },
  {
   "cell_type": "code",
   "execution_count": 132,
   "metadata": {},
   "outputs": [],
   "source": []
  },
  {
   "cell_type": "code",
   "execution_count": 43,
   "metadata": {},
   "outputs": [
    {
     "data": {
      "text/plain": [
       "'{'"
      ]
     },
     "execution_count": 43,
     "metadata": {},
     "output_type": "execute_result"
    }
   ],
   "source": []
  },
  {
   "cell_type": "code",
   "execution_count": 46,
   "metadata": {},
   "outputs": [
    {
     "name": "stdout",
     "output_type": "stream",
     "text": [
      "{0: None, 1: None, 2: 'fire', 3: None, 4: None}\n"
     ]
    }
   ],
   "source": []
  },
  {
   "cell_type": "code",
   "execution_count": 61,
   "metadata": {},
   "outputs": [
    {
     "name": "stdout",
     "output_type": "stream",
     "text": [
      "50\n"
     ]
    }
   ],
   "source": []
  },
  {
   "cell_type": "code",
   "execution_count": 79,
   "metadata": {},
   "outputs": [
    {
     "data": {
      "text/plain": [
       "'⣾⣽⣻⢿⡿⣟⣯'"
      ]
     },
     "execution_count": 79,
     "metadata": {},
     "output_type": "execute_result"
    }
   ],
   "source": []
  },
  {
   "cell_type": "code",
   "execution_count": 76,
   "metadata": {},
   "outputs": [],
   "source": []
  },
  {
   "cell_type": "code",
   "execution_count": 85,
   "metadata": {},
   "outputs": [
    {
     "name": "stdout",
     "output_type": "stream",
     "text": [
      "7112.423672914505\n",
      "1\n"
     ]
    }
   ],
   "source": []
  },
  {
   "cell_type": "code",
   "execution_count": 108,
   "metadata": {},
   "outputs": [
    {
     "name": "stdout",
     "output_type": "stream",
     "text": [
      "-1\n"
     ]
    },
    {
     "data": {
      "text/plain": [
       "'153[-0.0003620653023096403,-0.000019127717147886924]'"
      ]
     },
     "execution_count": 108,
     "metadata": {},
     "output_type": "execute_result"
    }
   ],
   "source": []
  },
  {
   "cell_type": "code",
   "execution_count": null,
   "metadata": {},
   "outputs": [],
   "source": []
  },
  {
   "cell_type": "code",
   "execution_count": 109,
   "metadata": {},
   "outputs": [
    {
     "name": "stdout",
     "output_type": "stream",
     "text": [
      "🦜:  (153[-0.0003620653023096403,-0000019127717147886924])(153[-0.000362065302\n",
      "realstring 153[-0.0003620653023096403,-0000019127717147886924]\n",
      "rest (153[-0.000362065302\n",
      "🦜:  (153[-0.000362065302\n",
      "no end char found, saving for later\n"
     ]
    },
    {
     "data": {
      "text/plain": [
       "'(153[-0.000362065302'"
      ]
     },
     "execution_count": 109,
     "metadata": {},
     "output_type": "execute_result"
    }
   ],
   "source": []
  }
 ],
 "metadata": {
  "colab": {
   "collapsed_sections": [],
   "name": "notion-table-worker-NYLAS_ONLINE_PEOPLE.ipynb",
   "provenance": []
  },
  "kernelspec": {
   "display_name": "Python 3",
   "language": "python",
   "name": "python3"
  },
  "language_info": {
   "codemirror_mode": {
    "name": "ipython",
    "version": 3
   },
   "file_extension": ".py",
   "mimetype": "text/x-python",
   "name": "python",
   "nbconvert_exporter": "python",
   "pygments_lexer": "ipython3",
   "version": "3.6.8"
  }
 },
 "nbformat": 4,
 "nbformat_minor": 1
}

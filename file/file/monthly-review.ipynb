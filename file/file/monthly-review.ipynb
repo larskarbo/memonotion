{
 "cells": [
  {
   "cell_type": "code",
   "execution_count": 1,
   "metadata": {
    "colab": {},
    "colab_type": "code",
    "id": "yvpkG_P-bTxe"
   },
   "outputs": [],
   "source": [
    "\n",
    "\n",
    "from notion.client import NotionClient\n",
    "from notion.block import TextBlock, ImageBlock, BulletedListBlock\n",
    "\n",
    "from datetime import datetime, timedelta, date\n",
    "import requests"
   ]
  },
  {
   "cell_type": "code",
   "execution_count": 2,
   "metadata": {
    "colab": {},
    "colab_type": "code",
    "id": "uQMol9MFlOa0"
   },
   "outputs": [],
   "source": [
    "from notion.collection import NotionDate\n",
    "from datetime import date"
   ]
  },
  {
   "cell_type": "code",
   "execution_count": 3,
   "metadata": {
    "colab": {},
    "colab_type": "code",
    "id": "Zr1o7JjoiK2J"
   },
   "outputs": [],
   "source": [
    "client = NotionClient(token_v2=\"44b8f17ddd1ebb037d6f7c92e55bb547b10a02465b68bda1f21757399dcb44dd05558ff355309d6ce173cb0b2a22c68122ac48abc1a4a69659d5717f78396a6f30d9b1c89806343f09685428b2c5\")\n",
    "\n"
   ]
  },
  {
   "cell_type": "code",
   "execution_count": 17,
   "metadata": {
    "colab": {
     "base_uri": "https://localhost:8080/",
     "height": 1000
    },
    "colab_type": "code",
    "id": "0sv10X1uixrX",
    "outputId": "5434dff0-6685-4ded-d7df-a1da9fd50487"
   },
   "outputs": [],
   "source": [
    "cv = client.get_collection_view(\"https://www.notion.so/larskarbo/ee4c9fc6f7144141a62945bebc63cc80?v=cf21d0a1603940d695e48919bfe6d9bb\")\n",
    "rows = cv.build_query().execute()\n",
    "rows = list( filter( lambda item: item.analyzed==0, rows ))"
   ]
  },
  {
   "cell_type": "code",
   "execution_count": 5,
   "metadata": {},
   "outputs": [
    {
     "output_type": "execute_result",
     "data": {
      "text/plain": "21"
     },
     "metadata": {},
     "execution_count": 5
    }
   ],
   "source": [
    "len(rows)"
   ]
  },
  {
   "cell_type": "code",
   "execution_count": null,
   "metadata": {},
   "outputs": [],
   "source": []
  },
  {
   "cell_type": "code",
   "execution_count": 6,
   "metadata": {},
   "outputs": [],
   "source": [
    "def findChild(page, searchString):\n",
    "    for child in page.children:\n",
    "        if child.type == \"text\":\n",
    "            if searchString in child.title:\n",
    "                return child"
   ]
  },
  {
   "cell_type": "code",
   "execution_count": 7,
   "metadata": {},
   "outputs": [],
   "source": [
    "\n",
    "def findChildren(searchString):\n",
    "    hypos = []\n",
    "    for row in rows:\n",
    "        for child in row.children:\n",
    "            if child.type == \"text\":\n",
    "                if searchString in child.title:\n",
    "                    for h in child.children:\n",
    "                        hypos.append(h)\n",
    "    return hypos"
   ]
  },
  {
   "cell_type": "code",
   "execution_count": 30,
   "metadata": {},
   "outputs": [],
   "source": [
    "reviewPage = client.get_block(\"https://www.notion.so/larskarbo/Review-31-mai-cef36df7834640dd8e3c80339f069da2\")\n"
   ]
  },
  {
   "cell_type": "code",
   "execution_count": 10,
   "metadata": {},
   "outputs": [],
   "source": [
    "# new!!\n",
    "grats = []\n",
    "for row in rows:\n",
    "    for child in row.children:\n",
    "        if child.type == \"numbered_list\":\n",
    "            grats.append(child.title)\n"
   ]
  },
  {
   "cell_type": "code",
   "execution_count": 11,
   "metadata": {},
   "outputs": [
    {
     "output_type": "stream",
     "name": "stdout",
     "text": "60\n"
    }
   ],
   "source": [
    "print(len(grats))"
   ]
  },
  {
   "cell_type": "code",
   "execution_count": 18,
   "metadata": {},
   "outputs": [
    {
     "output_type": "stream",
     "name": "stdout",
     "text": "id='045b3809-68cc-4ed3-8939-026e0172004f'\nid='7113d582-1d2c-40bc-adf0-a50869f790a4'\nid='4fb8a16c-d99f-4b46-bdcc-f5261640acef'\nid='aea34ea3-d2e0-4cf4-b360-100eea1d02bb'\nid='2293aa71-79c8-497d-9cac-733dcc1298d5'\nid='37914a13-7daa-4745-8834-efcb1a6d1d9a'\nid='f3153af0-ffe2-43c3-96b7-6a3d3fbefa06'\nid='a13c7edc-9f48-4324-a404-7bd1ec1f9d96'\nid='76e55ec2-afc7-45b5-a2e2-ec028fa9906e'\nid='c7d514bf-e70a-45cf-a859-e0ff64f49a15'\nid='1267ab0c-870e-4561-abca-1808c78446e4'\nid='7a8ec71c-2319-467c-8709-04dce1fa22db'\nid='9b154051-754e-4bd4-a31a-eb168ce44bed'\nid='7aaacc7f-beb1-494d-899a-94647f314dd5'\nid='19bcef0b-6cc4-42e4-8388-41b8a8493463'\nid='58514354-4955-47e5-9caa-70eee4837a7c'\nid='644223da-eae2-4275-90b3-4a46dd5ab7eb'\nid='a4fba0a2-260d-4a15-905c-852ba5c5533e'\nid='4dc33113-fb66-4ed4-944f-7b274f029b3c'\nid='281230b8-e1f1-4966-a771-b2afa494a329'\n24\n"
    }
   ],
   "source": [
    "# new!!\n",
    "hypos = []\n",
    "for row in rows:\n",
    "    h = findChild(row, \"Hypoteser\")\n",
    "    \n",
    "    for c in h.children:\n",
    "        if len(c.title):\n",
    "            hypos.append(c.title)\n",
    "\n",
    "print(len(hypos))"
   ]
  },
  {
   "cell_type": "code",
   "execution_count": 32,
   "metadata": {},
   "outputs": [
    {
     "output_type": "error",
     "ename": "AttributeError",
     "evalue": "'NoneType' object has no attribute 'children'",
     "traceback": [
      "\u001b[0;31m---------------------------------------------------------------------------\u001b[0m",
      "\u001b[0;31mAttributeError\u001b[0m                            Traceback (most recent call last)",
      "\u001b[0;32m<ipython-input-32-1a5014ae0b7e>\u001b[0m in \u001b[0;36m<module>\u001b[0;34m\u001b[0m\n\u001b[1;32m      1\u001b[0m \u001b[0mhblock\u001b[0m \u001b[0;34m=\u001b[0m \u001b[0mfindChild\u001b[0m\u001b[0;34m(\u001b[0m\u001b[0mreviewPage\u001b[0m\u001b[0;34m,\u001b[0m \u001b[0;34m\"Grati\"\u001b[0m\u001b[0;34m)\u001b[0m\u001b[0;34m\u001b[0m\u001b[0;34m\u001b[0m\u001b[0m\n\u001b[1;32m      2\u001b[0m \u001b[0;32mfor\u001b[0m \u001b[0mh\u001b[0m \u001b[0;32min\u001b[0m \u001b[0mgrats\u001b[0m\u001b[0;34m:\u001b[0m\u001b[0;34m\u001b[0m\u001b[0;34m\u001b[0m\u001b[0m\n\u001b[0;32m----> 3\u001b[0;31m     \u001b[0mhblock\u001b[0m\u001b[0;34m.\u001b[0m\u001b[0mchildren\u001b[0m\u001b[0;34m.\u001b[0m\u001b[0madd_new\u001b[0m\u001b[0;34m(\u001b[0m\u001b[0mBulletedListBlock\u001b[0m\u001b[0;34m,\u001b[0m \u001b[0mtitle\u001b[0m\u001b[0;34m=\u001b[0m\u001b[0;34m(\u001b[0m\u001b[0mh\u001b[0m\u001b[0;34m)\u001b[0m\u001b[0;34m)\u001b[0m\u001b[0;34m\u001b[0m\u001b[0;34m\u001b[0m\u001b[0m\n\u001b[0m",
      "\u001b[0;31mAttributeError\u001b[0m: 'NoneType' object has no attribute 'children'"
     ]
    }
   ],
   "source": [
    "\n",
    "hblock = client.get_block(\"https://www.notion.so/larskarbo/Gratitude-4e961dcbbaa74ad2ac07fd7a422dc272\")\n",
    "for h in grats:\n",
    "    hblock.children.add_new(BulletedListBlock, title=(h))"
   ]
  },
  {
   "cell_type": "code",
   "execution_count": 31,
   "metadata": {},
   "outputs": [],
   "source": [
    "\n",
    "hblock = findChild(reviewPage, \"Hypos\")\n",
    "for h in hypos:\n",
    "    hblock.children.add_new(BulletedListBlock, title=(h))"
   ]
  }
 ],
 "metadata": {
  "colab": {
   "collapsed_sections": [],
   "name": "notion-table-worker-NYLAS_ONLINE_PEOPLE.ipynb",
   "provenance": []
  },
  "kernelspec": {
   "display_name": "Python 3.7.3 64-bit ('.venv': virtualenv)",
   "language": "python",
   "name": "python37364bitvenvvirtualenv4c6bf5ef16c845edbe53b5d1950bf799"
  },
  "language_info": {
   "codemirror_mode": {
    "name": "ipython",
    "version": 3
   },
   "file_extension": ".py",
   "mimetype": "text/x-python",
   "name": "python",
   "nbconvert_exporter": "python",
   "pygments_lexer": "ipython3",
   "version": "3.7.3-final"
  }
 },
 "nbformat": 4,
 "nbformat_minor": 1
}
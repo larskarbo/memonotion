{
 "cells": [
  {
   "cell_type": "code",
   "execution_count": 6,
   "metadata": {
    "colab": {
     "base_uri": "https://localhost:8080/",
     "height": 102
    },
    "colab_type": "code",
    "id": "his3Hj4PhnLl",
    "outputId": "1d5eaa07-2b1f-426c-b7d6-c73eeaabad91"
   },
   "outputs": [],
   "source": [
    "!pip install --upgrade --quiet notion\n",
    "!pip install --upgrade --quiet nylas\n",
    "!pip install --quiet email_validator"
   ]
  },
  {
   "cell_type": "code",
   "execution_count": 7,
   "metadata": {
    "colab": {},
    "colab_type": "code",
    "id": "yvpkG_P-bTxe"
   },
   "outputs": [],
   "source": [
    "\n",
    "\n",
    "from notion.client import NotionClient\n",
    "from notion.block import TextBlock, ImageBlock\n",
    "\n",
    "from nylas import APIClient\n",
    "from datetime import datetime, timedelta, date\n",
    "from email_validator import validate_email, EmailNotValidError"
   ]
  },
  {
   "cell_type": "code",
   "execution_count": 8,
   "metadata": {
    "colab": {},
    "colab_type": "code",
    "id": "uQMol9MFlOa0"
   },
   "outputs": [],
   "source": [
    "from notion.collection import NotionDate"
   ]
  },
  {
   "cell_type": "code",
   "execution_count": null,
   "metadata": {
    "colab": {},
    "colab_type": "code",
    "id": "tspLCXBVlXH6"
   },
   "outputs": [],
   "source": []
  },
  {
   "cell_type": "code",
   "execution_count": 9,
   "metadata": {
    "colab": {},
    "colab_type": "code",
    "id": "N8nqTyOuiavR"
   },
   "outputs": [],
   "source": [
    "\n",
    "nylas = APIClient(\n",
    "    \"8nz9owqxj0a40fc8mnjnf2qj8\",\n",
    "    \"323qe8mw660ifiyxwb5u2bphy\",\n",
    "    \"stBjNI7Zypa5cxOX7BrqSi3A38MABg\"\n",
    ")\n"
   ]
  },
  {
   "cell_type": "code",
   "execution_count": 10,
   "metadata": {
    "colab": {},
    "colab_type": "code",
    "id": "qaupPKwlcGAa"
   },
   "outputs": [
    {
     "name": "stdout",
     "output_type": "stream",
     "text": [
      "horsfe\n"
     ]
    }
   ],
   "source": [
    "print('horsfe')"
   ]
  },
  {
   "cell_type": "code",
   "execution_count": null,
   "metadata": {
    "colab": {},
    "colab_type": "code",
    "id": "6ArzJghvhwGe"
   },
   "outputs": [],
   "source": []
  },
  {
   "cell_type": "code",
   "execution_count": 11,
   "metadata": {
    "colab": {},
    "colab_type": "code",
    "id": "Zr1o7JjoiK2J"
   },
   "outputs": [],
   "source": [
    "client = NotionClient(token_v2=\"0d6effd1be33111bacb3ba4327501368f06c7746005e01c11fc2bf4788fefd6c3e1934f18fdf629463c7e85172a272cdd7ca5237db5f2e7c5b4ff0e7f32b1319eecda6b48f424277e6a3c1cc8323\")\n",
    "\n"
   ]
  },
  {
   "cell_type": "code",
   "execution_count": 12,
   "metadata": {
    "colab": {
     "base_uri": "https://localhost:8080/",
     "height": 1000
    },
    "colab_type": "code",
    "id": "0sv10X1uixrX",
    "outputId": "5434dff0-6685-4ded-d7df-a1da9fd50487"
   },
   "outputs": [
    {
     "name": "stdout",
     "output_type": "stream",
     "text": [
      "rows:  [\n",
      "  <CollectionRowBlock (id='87c0a55f-e05e-4a1b-9248-79bfb0ed0391', title='Akila D Kavinda')>,\n",
      "  <CollectionRowBlock (id='a3f8b50c-d3ee-4721-8b38-0c53b9a2f96a', title='Mohammed')>,\n",
      "  <CollectionRowBlock (id='90d70f04-4bbd-4ba9-8b68-8be146535086', title='Max Awad')>,\n",
      "  <CollectionRowBlock (id='d73c97eb-9d65-47f1-a93d-847f221790cc', title='Anders Bortne')>,\n",
      "  <CollectionRowBlock (id='0a37b1b0-b6b3-4ade-be6a-787d5f8eeff6', title='Tove Jægerud')>,\n",
      "  <CollectionRowBlock (id='3875b93a-056d-4e12-814a-e8d4c2832b0d', title='Ingebjørg K. Skavdal')>,\n",
      "  <CollectionRowBlock (id='14f0d990-1b2a-444e-aed5-00175b313b5d', title='Dagfinn Brendløkken')>,\n",
      "  <CollectionRowBlock (id='54100bc2-0dd3-4247-9265-1777ec800588', title='Shin Elisabeth Christiansen')>,\n",
      "  <CollectionRowBlock (id='b513c16c-6a7d-4db0-8088-090799fa19aa', title='Julian Bensch')>,\n",
      "  <CollectionRowBlock (id='ec39be8e-4a6d-4477-a5bc-b6f82ba39da8', title='Jazz')>,\n",
      "  <CollectionRowBlock (id='c0724667-4ca8-491a-9ad2-65905149d499', title='Dale Casey')>,\n",
      "  <CollectionRowBlock (id='c1fd3dcc-0893-4f2a-8d91-ec223fe12a8c', title='Hannes')>,\n",
      "  <CollectionRowBlock (id='44de051e-267e-4144-9715-abb2e981dc52', title='Gle Service')>,\n",
      "  <CollectionRowBlock (id='2641a9d7-6e34-4f11-b8b6-4ed68ca73ef4', title='Amir Bajramovic')>,\n",
      "]\n",
      "rows:  14\n"
     ]
    }
   ],
   "source": [
    "cv = client.get_collection_view(\"https://www.notion.so/drowzee/f44945813409420989b917481d6215ea?v=9e9d6276f8f744deb7976c75dd3a6ea4\")\n",
    "rows = cv.default_query().execute()\n",
    "print('rows: ', rows)\n",
    "print('rows: ', len(rows))"
   ]
  },
  {
   "cell_type": "code",
   "execution_count": 17,
   "metadata": {},
   "outputs": [
    {
     "name": "stdout",
     "output_type": "stream",
     "text": [
      "horse,Akila D Kavinda, akiladrishan@gmail.com\n",
      "horse,Mohammed, mohammedija@gmail.com\n",
      "horse,Max Awad, maxawad@apple.com\n",
      "horse,Ingebjørg K. Skavdal, iskavdal@gmail.com\n",
      "horse,Dagfinn Brendløkken, dagfinnb@bbnett.no\n",
      "horse,Shin Elisabeth Christiansen, shinchristiansen@gmail.com\n",
      "horse,Jazz, jazz914@googlemail.com\n",
      "horse,Hannes, hannesfeilhaber@me.com\n"
     ]
    }
   ],
   "source": [
    "for row in rows:\n",
    "    if row.caton_status == \"caton-theirturn-nudge\":\n",
    "        print(\"horse,\"+row.name + \",\", row.email)"
   ]
  },
  {
   "cell_type": "code",
   "execution_count": null,
   "metadata": {},
   "outputs": [],
   "source": []
  },
  {
   "cell_type": "code",
   "execution_count": null,
   "metadata": {},
   "outputs": [],
   "source": []
  },
  {
   "cell_type": "code",
   "execution_count": null,
   "metadata": {},
   "outputs": [],
   "source": []
  },
  {
   "cell_type": "code",
   "execution_count": null,
   "metadata": {},
   "outputs": [],
   "source": []
  },
  {
   "cell_type": "code",
   "execution_count": null,
   "metadata": {
    "colab": {
     "base_uri": "https://localhost:8080/",
     "height": 1000
    },
    "colab_type": "code",
    "id": "4rSKbTIYuCNn",
    "outputId": "43dc73df-bdbc-4df7-96b7-5b484750f744"
   },
   "outputs": [],
   "source": []
  },
  {
   "cell_type": "code",
   "execution_count": null,
   "metadata": {},
   "outputs": [],
   "source": []
  },
  {
   "cell_type": "code",
   "execution_count": null,
   "metadata": {
    "colab": {},
    "colab_type": "code",
    "id": "0Pean_YRv7tf"
   },
   "outputs": [],
   "source": []
  }
 ],
 "metadata": {
  "colab": {
   "collapsed_sections": [],
   "name": "notion-table-worker-NYLAS_ONLINE_PEOPLE.ipynb",
   "provenance": []
  },
  "kernelspec": {
   "display_name": "Python 3",
   "language": "python",
   "name": "python3"
  },
  "language_info": {
   "codemirror_mode": {
    "name": "ipython",
    "version": 3
   },
   "file_extension": ".py",
   "mimetype": "text/x-python",
   "name": "python",
   "nbconvert_exporter": "python",
   "pygments_lexer": "ipython3",
   "version": "3.6.8"
  }
 },
 "nbformat": 4,
 "nbformat_minor": 1
}

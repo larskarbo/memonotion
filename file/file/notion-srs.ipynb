{
 "cells": [
  {
   "cell_type": "code",
   "execution_count": 1,
   "metadata": {
    "colab": {
     "base_uri": "https://localhost:8080/",
     "height": 102
    },
    "colab_type": "code",
    "id": "his3Hj4PhnLl",
    "outputId": "1d5eaa07-2b1f-426c-b7d6-c73eeaabad91"
   },
   "outputs": [],
   "source": [
    "!pip install --upgrade --quiet notion\n"
   ]
  },
  {
   "cell_type": "code",
   "execution_count": 2,
   "metadata": {
    "colab": {},
    "colab_type": "code",
    "id": "yvpkG_P-bTxe"
   },
   "outputs": [],
   "source": [
    "\n",
    "\n",
    "from notion.client import NotionClient\n",
    "from notion.block import TextBlock, ImageBlock, BulletedListBlock\n",
    "\n",
    "from datetime import datetime, timedelta, date"
   ]
  },
  {
   "cell_type": "code",
   "execution_count": 3,
   "metadata": {
    "colab": {},
    "colab_type": "code",
    "id": "uQMol9MFlOa0"
   },
   "outputs": [],
   "source": [
    "from notion.collection import NotionDate"
   ]
  },
  {
   "cell_type": "code",
   "execution_count": null,
   "metadata": {
    "colab": {},
    "colab_type": "code",
    "id": "tspLCXBVlXH6"
   },
   "outputs": [],
   "source": []
  },
  {
   "cell_type": "code",
   "execution_count": null,
   "metadata": {
    "colab": {},
    "colab_type": "code",
    "id": "N8nqTyOuiavR"
   },
   "outputs": [],
   "source": []
  },
  {
   "cell_type": "code",
   "execution_count": null,
   "metadata": {
    "colab": {},
    "colab_type": "code",
    "id": "qaupPKwlcGAa"
   },
   "outputs": [],
   "source": []
  },
  {
   "cell_type": "code",
   "execution_count": 4,
   "metadata": {
    "colab": {},
    "colab_type": "code",
    "id": "6ArzJghvhwGe"
   },
   "outputs": [],
   "source": [
    "def findChild(page, searchString):\n",
    "    for child in page.children:\n",
    "        if child.type == \"text\":\n",
    "            if searchString in child.title:\n",
    "                return child"
   ]
  },
  {
   "cell_type": "code",
   "execution_count": 5,
   "metadata": {},
   "outputs": [],
   "source": [
    "stages = [\n",
    "    {\n",
    "        \"string\":\"1 day\",\n",
    "        \"delta\": timedelta(days=1)\n",
    "    },\n",
    "    {\n",
    "        \"string\":\"1 week\",\n",
    "        \"delta\": timedelta(weeks=1)\n",
    "    },\n",
    "    {\n",
    "        \"string\":\"1 month\",\n",
    "        \"delta\": timedelta(days=30)\n",
    "    },\n",
    "    {\n",
    "        \"string\":\"1 quarter\",\n",
    "        \"delta\": timedelta(days=30*3)\n",
    "    },\n",
    "    {\n",
    "        \"string\":\"1 half year\",\n",
    "        \"delta\": timedelta(days=30*6)\n",
    "    }\n",
    "]"
   ]
  },
  {
   "cell_type": "code",
   "execution_count": 6,
   "metadata": {
    "colab": {},
    "colab_type": "code",
    "id": "Zr1o7JjoiK2J"
   },
   "outputs": [],
   "source": [
    "client = NotionClient(token_v2=\"0d6effd1be33111bacb3ba4327501368f06c7746005e01c11fc2bf4788fefd6c3e1934f18fdf629463c7e85172a272cdd7ca5237db5f2e7c5b4ff0e7f32b1319eecda6b48f424277e6a3c1cc8323\")\n",
    "\n"
   ]
  },
  {
   "cell_type": "code",
   "execution_count": 7,
   "metadata": {
    "colab": {
     "base_uri": "https://localhost:8080/",
     "height": 1000
    },
    "colab_type": "code",
    "id": "0sv10X1uixrX",
    "outputId": "5434dff0-6685-4ded-d7df-a1da9fd50487"
   },
   "outputs": [],
   "source": [
    "cv = client.get_collection_view(\"https://www.notion.so/larskarbo/ecf3d47c958547d883905014c09f8262?v=f82599308cde4d11a4237eb4552b5440\")\n",
    "rows = cv.default_query().execute()\n",
    "\n"
   ]
  },
  {
   "cell_type": "code",
   "execution_count": null,
   "metadata": {},
   "outputs": [],
   "source": []
  },
  {
   "cell_type": "code",
   "execution_count": 8,
   "metadata": {},
   "outputs": [
    {
     "name": "stdout",
     "output_type": "stream",
     "text": [
      "[\n",
      "  <CollectionRowBlock (id='fc98912b-875e-47d6-856e-c2fe5c6272e7', title='8 flow components')>,\n",
      "]\n",
      "None\n",
      "{'string': '1 day', 'delta': datetime.timedelta(1)}\n",
      "{'string': '1 week', 'delta': datetime.timedelta(7)}\n",
      "{'string': '1 month', 'delta': datetime.timedelta(30)}\n",
      "{'string': '1 quarter', 'delta': datetime.timedelta(90)}\n",
      "{'string': '1 half year', 'delta': datetime.timedelta(180)}\n"
     ]
    }
   ],
   "source": [
    "print(rows)\n",
    "for row in rows:\n",
    "    print(row.how_well_did_it_go)\n",
    "    \n",
    "    if not row.current_stage:\n",
    "        row.current_stage=stages[0][\"string\"]\n",
    "    \n",
    "    i = 0\n",
    "    for stage in stages:\n",
    "        print(stage)\n",
    "        if stage[\"string\"] == row.current_stage:\n",
    "            stageI = i\n",
    "        i+=1\n",
    "        \n",
    "    if row.how_well_did_it_go:\n",
    "        if row.how_well_did_it_go==\"Good - Advance me!\":\n",
    "            stageI += 1\n",
    "            row.current_stage = stages[stageI][\"string\"]\n",
    "        \n",
    "        row.how_well_did_it_go = \"\"\n",
    "        \n",
    "        row.lastreview = datetime.now()\n",
    "        row.nextreview = datetime.now() + stages[stageI][\"delta\"]\n",
    "        "
   ]
  },
  {
   "cell_type": "code",
   "execution_count": 9,
   "metadata": {},
   "outputs": [
    {
     "name": "stdout",
     "output_type": "stream",
     "text": [
      "2020-02-27 19:16:31.877975\n"
     ]
    },
    {
     "ename": "NameError",
     "evalue": "name 'table' is not defined",
     "output_type": "error",
     "traceback": [
      "\u001b[0;31m---------------------------------------------------------------------------\u001b[0m",
      "\u001b[0;31mNameError\u001b[0m                                 Traceback (most recent call last)",
      "\u001b[0;32m<ipython-input-9-4dba83d38add>\u001b[0m in \u001b[0;36m<module>\u001b[0;34m\u001b[0m\n\u001b[1;32m      1\u001b[0m \u001b[0mprint\u001b[0m\u001b[0;34m(\u001b[0m\u001b[0mdatetime\u001b[0m\u001b[0;34m.\u001b[0m\u001b[0mnow\u001b[0m\u001b[0;34m(\u001b[0m\u001b[0;34m)\u001b[0m\u001b[0;34m)\u001b[0m\u001b[0;34m\u001b[0m\u001b[0;34m\u001b[0m\u001b[0m\n\u001b[0;32m----> 2\u001b[0;31m \u001b[0mprint\u001b[0m\u001b[0;34m(\u001b[0m\u001b[0;34m\"1 day\"\u001b[0m \u001b[0;32min\u001b[0m \u001b[0mtable\u001b[0m\u001b[0;34m)\u001b[0m\u001b[0;34m\u001b[0m\u001b[0;34m\u001b[0m\u001b[0m\n\u001b[0m",
      "\u001b[0;31mNameError\u001b[0m: name 'table' is not defined"
     ]
    }
   ],
   "source": [
    "print(datetime.now())\n",
    "print(\"1 day\" in table)"
   ]
  },
  {
   "cell_type": "code",
   "execution_count": null,
   "metadata": {},
   "outputs": [],
   "source": []
  },
  {
   "cell_type": "code",
   "execution_count": null,
   "metadata": {},
   "outputs": [],
   "source": []
  },
  {
   "cell_type": "code",
   "execution_count": null,
   "metadata": {},
   "outputs": [],
   "source": []
  },
  {
   "cell_type": "code",
   "execution_count": null,
   "metadata": {
    "colab": {
     "base_uri": "https://localhost:8080/",
     "height": 1000
    },
    "colab_type": "code",
    "id": "4rSKbTIYuCNn",
    "outputId": "43dc73df-bdbc-4df7-96b7-5b484750f744"
   },
   "outputs": [],
   "source": []
  },
  {
   "cell_type": "code",
   "execution_count": null,
   "metadata": {},
   "outputs": [],
   "source": []
  },
  {
   "cell_type": "code",
   "execution_count": null,
   "metadata": {
    "colab": {},
    "colab_type": "code",
    "id": "0Pean_YRv7tf"
   },
   "outputs": [],
   "source": []
  }
 ],
 "metadata": {
  "colab": {
   "collapsed_sections": [],
   "name": "notion-table-worker-NYLAS_ONLINE_PEOPLE.ipynb",
   "provenance": []
  },
  "kernelspec": {
   "display_name": "Python 3",
   "language": "python",
   "name": "python3"
  },
  "language_info": {
   "codemirror_mode": {
    "name": "ipython",
    "version": 3
   },
   "file_extension": ".py",
   "mimetype": "text/x-python",
   "name": "python",
   "nbconvert_exporter": "python",
   "pygments_lexer": "ipython3",
   "version": "3.6.8"
  }
 },
 "nbformat": 4,
 "nbformat_minor": 1
}

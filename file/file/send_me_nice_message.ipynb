{
 "cells": [
  {
   "cell_type": "code",
   "execution_count": 7,
   "metadata": {
    "colab": {
     "base_uri": "https://localhost:8080/",
     "height": 102
    },
    "colab_type": "code",
    "id": "his3Hj4PhnLl",
    "outputId": "1d5eaa07-2b1f-426c-b7d6-c73eeaabad91"
   },
   "outputs": [],
   "source": [
    "!pip install --upgrade --quiet notion\n",
    "!pip install --upgrade --quiet nylas\n",
    "!pip install --quiet email_validator"
   ]
  },
  {
   "cell_type": "code",
   "execution_count": 8,
   "metadata": {
    "colab": {},
    "colab_type": "code",
    "id": "yvpkG_P-bTxe"
   },
   "outputs": [],
   "source": [
    "\n",
    "\n",
    "from notion.client import NotionClient\n",
    "from notion.block import TextBlock, ImageBlock\n",
    "\n",
    "\n",
    "from datetime import datetime, timedelta, date\n",
    "from email_validator import validate_email, EmailNotValidError\n",
    "\n",
    "import utils"
   ]
  },
  {
   "cell_type": "code",
   "execution_count": 9,
   "metadata": {
    "colab": {},
    "colab_type": "code",
    "id": "uQMol9MFlOa0"
   },
   "outputs": [],
   "source": [
    "from notion.collection import NotionDate"
   ]
  },
  {
   "cell_type": "code",
   "execution_count": null,
   "metadata": {
    "colab": {},
    "colab_type": "code",
    "id": "tspLCXBVlXH6"
   },
   "outputs": [],
   "source": []
  },
  {
   "cell_type": "code",
   "execution_count": 10,
   "metadata": {
    "colab": {},
    "colab_type": "code",
    "id": "N8nqTyOuiavR"
   },
   "outputs": [
    {
     "name": "stdout",
     "output_type": "stream",
     "text": [
      "initing nylas\n"
     ]
    }
   ],
   "source": [
    "\n",
    "nylas = utils.getNylas()"
   ]
  },
  {
   "cell_type": "code",
   "execution_count": 11,
   "metadata": {
    "colab": {},
    "colab_type": "code",
    "id": "qaupPKwlcGAa",
    "scrolled": true
   },
   "outputs": [
    {
     "data": {
      "text/plain": [
       "{'account_id': '9ckzmlh3h47wmy701jsqkjqq4',\n",
       " 'bcc': [],\n",
       " 'body': 'This email was sent using the Nylas Email API. Visit https://nylas.com for details.',\n",
       " 'cc': [],\n",
       " 'date': 1578069698,\n",
       " 'events': [],\n",
       " 'files': [],\n",
       " 'folder': None,\n",
       " 'from': [{'email': 'lars@drowzee.com', 'name': ''}],\n",
       " 'id': '815ewlw8qpsh76sjrvahrs3dv',\n",
       " 'object': 'message',\n",
       " 'reply_to': [],\n",
       " 'snippet': 'This email was sent using the Nylas Email API. Visit https://nylas.com for details.',\n",
       " 'starred': False,\n",
       " 'subject': 'With Love, from Nylas',\n",
       " 'thread_id': '5mqwnywgnf32vk7sq9dyi0mkd',\n",
       " 'to': [{'email': 'lars@drowzee.com', 'name': 'My Nylas Friend'}],\n",
       " 'unread': False}"
      ]
     },
     "execution_count": 11,
     "metadata": {},
     "output_type": "execute_result"
    }
   ],
   "source": [
    "\n",
    "draft = nylas.drafts.create()\n",
    "draft.subject = \"With Love, from Nylas\"\n",
    "draft.body = \"This email was sent using the Nylas Email API. Visit https://nylas.com for details.\"\n",
    "draft.to = [{'name': 'My Nylas Friend', 'email': 'lars@drowzee.com'}]\n",
    "\n",
    "draft.send()"
   ]
  },
  {
   "cell_type": "code",
   "execution_count": null,
   "metadata": {
    "colab": {},
    "colab_type": "code",
    "id": "6ArzJghvhwGe"
   },
   "outputs": [],
   "source": []
  },
  {
   "cell_type": "code",
   "execution_count": null,
   "metadata": {
    "colab": {},
    "colab_type": "code",
    "id": "Zr1o7JjoiK2J"
   },
   "outputs": [],
   "source": []
  },
  {
   "cell_type": "code",
   "execution_count": null,
   "metadata": {
    "colab": {
     "base_uri": "https://localhost:8080/",
     "height": 1000
    },
    "colab_type": "code",
    "id": "0sv10X1uixrX",
    "outputId": "5434dff0-6685-4ded-d7df-a1da9fd50487"
   },
   "outputs": [],
   "source": []
  },
  {
   "cell_type": "code",
   "execution_count": null,
   "metadata": {},
   "outputs": [],
   "source": []
  },
  {
   "cell_type": "code",
   "execution_count": null,
   "metadata": {},
   "outputs": [],
   "source": []
  },
  {
   "cell_type": "code",
   "execution_count": null,
   "metadata": {},
   "outputs": [],
   "source": []
  },
  {
   "cell_type": "code",
   "execution_count": null,
   "metadata": {},
   "outputs": [],
   "source": []
  },
  {
   "cell_type": "code",
   "execution_count": null,
   "metadata": {},
   "outputs": [],
   "source": []
  },
  {
   "cell_type": "code",
   "execution_count": null,
   "metadata": {
    "colab": {
     "base_uri": "https://localhost:8080/",
     "height": 1000
    },
    "colab_type": "code",
    "id": "4rSKbTIYuCNn",
    "outputId": "43dc73df-bdbc-4df7-96b7-5b484750f744"
   },
   "outputs": [],
   "source": [
    "[0,1,2,3,4,5,6,7,8][4:5]"
   ]
  },
  {
   "cell_type": "code",
   "execution_count": null,
   "metadata": {},
   "outputs": [],
   "source": []
  },
  {
   "cell_type": "code",
   "execution_count": null,
   "metadata": {
    "colab": {},
    "colab_type": "code",
    "id": "0Pean_YRv7tf"
   },
   "outputs": [],
   "source": []
  }
 ],
 "metadata": {
  "colab": {
   "collapsed_sections": [],
   "name": "notion-table-worker-NYLAS_ONLINE_PEOPLE.ipynb",
   "provenance": []
  },
  "kernelspec": {
   "display_name": "Python 3",
   "language": "python",
   "name": "python3"
  },
  "language_info": {
   "codemirror_mode": {
    "name": "ipython",
    "version": 3
   },
   "file_extension": ".py",
   "mimetype": "text/x-python",
   "name": "python",
   "nbconvert_exporter": "python",
   "pygments_lexer": "ipython3",
   "version": "3.6.8"
  }
 },
 "nbformat": 4,
 "nbformat_minor": 1
}
